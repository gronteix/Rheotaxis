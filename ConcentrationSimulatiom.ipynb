{
 "cells": [
  {
   "cell_type": "code",
   "execution_count": 3,
   "metadata": {},
   "outputs": [],
   "source": [
    "import numpy\n",
    "from matplotlib import pyplot\n",
    "from tqdm import tqdm_notebook as tqdm"
   ]
  },
  {
   "cell_type": "code",
   "execution_count": 2,
   "metadata": {},
   "outputs": [],
   "source": [
    "D_u = 0.5\n",
    "v = .5"
   ]
  },
  {
   "cell_type": "code",
   "execution_count": 4,
   "metadata": {},
   "outputs": [],
   "source": [
    "L = 1.\n",
    "T = 1\n",
    "J = 1000\n",
    "dx = float(L)/float(J-1)\n",
    "\n",
    "dt = 100*dx**2/(4*D_u)\n",
    "nt = int(T/dt)\n",
    "\n",
    "r = float(v*dt)/float(4.*dx)\n",
    "s = float(D_u*dt)/float(2.*dx*dx)\n",
    "\n",
    "U = numpy.array([0.1 for i in range(J)])\n",
    "\n",
    "A_u = numpy.diagflat([-s+r for i in range(J-2)]+[-2*s], -1) +\\\n",
    "      numpy.diagflat([1.+2*s-4*r+4*r**2/s]+[1.+2.*s for i in range(J-2)]+[1.+2*s+4*r+4*r**2/s]) +\\\n",
    "      numpy.diagflat([-2*s]+[-(s+r) for i in range(J-2)], 1)\n",
    "        \n",
    "B_u = numpy.diagflat([s-r for i in range(J-2)]+[2*s], -1) +\\\n",
    "      numpy.diagflat([1.-2*s+4*r-4*r**2/s]+[1.-2.*s for i in range(J-2)]+[1.-2*s-4*r-4*r**2/s]) +\\\n",
    "      numpy.diagflat([2*s]+[s+r for i in range(J-2)], 1)"
   ]
  },
  {
   "cell_type": "code",
   "execution_count": 5,
   "metadata": {},
   "outputs": [],
   "source": [
    "M = numpy.matmul(numpy.linalg.inv(A_u), B_u)\n",
    "Un = numpy.matmul(numpy.linalg.matrix_power(M, nt), U)"
   ]
  },
  {
   "cell_type": "code",
   "execution_count": null,
   "metadata": {},
   "outputs": [],
   "source": [
    "numpy.abs(sum(numpy.multiply(dx,U)) - sum(numpy.multiply(dx,Un)))/sum(numpy.multiply(dx,U))"
   ]
  },
  {
   "cell_type": "code",
   "execution_count": 13,
   "metadata": {},
   "outputs": [
    {
     "data": {
      "text/plain": [
       "<matplotlib.legend.Legend at 0x1f83b363cc0>"
      ]
     },
     "execution_count": 13,
     "metadata": {},
     "output_type": "execute_result"
    },
    {
     "data": {
      "image/png": "[encoded data removed]",
      "text/plain": [
       "<Figure size 432x288 with 1 Axes>"
      ]
     },
     "metadata": {
      "needs_background": "light"
     },
     "output_type": "display_data"
    }
   ],
   "source": [
    "x_grid = numpy.array([j*dx for j in range(J)])\n",
    "t_grid = numpy.array([j*dt for j in range(nt)])\n",
    "\n",
    "pyplot.plot(x_grid, numpy.matmul(numpy.linalg.matrix_power(M, 0), U), label = 'time = ' + str(round(0, 3)))\n",
    "pyplot.plot(x_grid, numpy.matmul(numpy.linalg.matrix_power(M, int(0.1*T/dt)), U), label = 'time = ' + str(round(0.1*T, 3)))\n",
    "pyplot.plot(x_grid, numpy.matmul(numpy.linalg.matrix_power(M, int(T/dt)*3), U), label = 'time = ' + str(round(T, 3)))\n",
    "pyplot.ylim(0, 0.2)\n",
    "pyplot.xlim(0, L)\n",
    "pyplot.xlabel('z')\n",
    "pyplot.ylabel('concentration')\n",
    "pyplot.legend()\n",
    "pyplot.savefig()"
   ]
  },
  {
   "cell_type": "code",
   "execution_count": null,
   "metadata": {},
   "outputs": [],
   "source": [
    "U_record = numpy.array(U_record)\n",
    "\n",
    "x_grid = numpy.array([j*dx for j in range(J)])\n",
    "t_grid = numpy.array([j*dt for j in range(nt)])\n",
    "\n",
    "\n",
    "fig, ax = pyplot.subplots()\n",
    "pyplot.xlabel('x'); pyplot.ylabel('t')\n",
    "heatmap = ax.pcolor(x_grid, t_grid, U_record, vmin=0., vmax=1.)\n",
    "colorbar = pyplot.colorbar(heatmap)\n",
    "colorbar.set_label('concentration U')"
   ]
  },
  {
   "cell_type": "code",
   "execution_count": null,
   "metadata": {},
   "outputs": [],
   "source": [
    "fig, ax = pyplot.subplots()\n",
    "pyplot.ylim((0., 1.1))\n",
    "pyplot.xlabel('x')\n",
    "pyplot.ylabel('concentration')\n",
    "pyplot.plot(x_grid, Utest)\n",
    "pyplot.show()"
   ]
  },
  {
   "cell_type": "code",
   "execution_count": null,
   "metadata": {},
   "outputs": [],
   "source": [
    "# 1. Import libraries\n",
    "import numpy as np\n",
    "import matplotlib.pyplot as plt\n",
    "numpy.set_printoptions(precision=3)\n",
    "\n",
    "# 2. Set up parameters\n",
    "nx = 100\n",
    "dx = 0.01\n",
    "nt = 500000\n",
    "c = .0\n",
    "D = 0.5\n",
    "dt = 0.00001\n",
    "\n",
    "# 3. Initial conditions\n",
    "u = np.zeros(nx)\n",
    "u[10:35] = 4\n",
    "un = u.copy()\n",
    "\n",
    "# 4. Solving the PDE\n",
    "for n in range(nt):\n",
    "    un = u.copy()\n",
    "    for i in range(1, nx-1):\n",
    "        u[i] = un[i] + D * dt / dx ** 2 * (un[i+1]-2*un[i]+un[i-1]) -\\\n",
    "           c*dt/dx*(un[i] - un[i-1])\n",
    "    u[0] = u[1] - dx * c / D * u[1]    # Robin Boundary Condition LEFT\n",
    "    u[-1] = u[-2] + dx * c / D * u[-1] # Robin Boundary Condition RIGHT\n",
    "\n",
    "# 5. Plot results\n",
    "plt.plot(np.linspace(0, 1, nx), u)\n",
    "plt.ylim(0, 10)\n",
    "plt.xlim(0, 1.)\n",
    "plt.show()"
   ]
  },
  {
   "cell_type": "code",
   "execution_count": null,
   "metadata": {},
   "outputs": [],
   "source": [
    "u = np.zeros(nx)\n",
    "u[10:35] = 4\n",
    "\n",
    "sum(numpy.multiply(dx,u))"
   ]
  },
  {
   "cell_type": "code",
   "execution_count": null,
   "metadata": {},
   "outputs": [],
   "source": []
  }
 ],
 "metadata": {
  "kernelspec": {
   "display_name": "Python 3",
   "language": "python",
   "name": "python3"
  },
  "language_info": {
   "codemirror_mode": {
    "name": "ipython",
    "version": 3
   },
   "file_extension": ".py",
   "mimetype": "text/x-python",
   "name": "python",
   "nbconvert_exporter": "python",
   "pygments_lexer": "ipython3",
   "version": "3.7.0"
  }
 },
 "nbformat": 4,
 "nbformat_minor": 2
}
